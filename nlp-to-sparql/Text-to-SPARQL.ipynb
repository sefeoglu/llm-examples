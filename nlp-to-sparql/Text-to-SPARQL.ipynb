{
 "cells": [
  {
   "cell_type": "markdown",
   "id": "f72c825f",
   "metadata": {},
   "source": [
    "# Definition of the project"
   ]
  },
  {
   "cell_type": "markdown",
   "id": "f4832696",
   "metadata": {},
   "source": [
    "# Libraries"
   ]
  },
  {
   "cell_type": "code",
   "execution_count": null,
   "id": "1595cd3f",
   "metadata": {},
   "outputs": [],
   "source": [
    "#define the libraries here!"
   ]
  },
  {
   "cell_type": "code",
   "execution_count": 2,
   "id": "c098b1f3",
   "metadata": {},
   "outputs": [],
   "source": [
    "from transformers import LlamaForCausalLM, LlamaTokenizer"
   ]
  },
  {
   "cell_type": "markdown",
   "id": "fe7f235e",
   "metadata": {},
   "source": [
    "# Dataset"
   ]
  },
  {
   "cell_type": "code",
   "execution_count": null,
   "id": "4dd00519",
   "metadata": {},
   "outputs": [],
   "source": []
  },
  {
   "cell_type": "markdown",
   "id": "c2d9bbdf",
   "metadata": {},
   "source": [
    "# Model "
   ]
  },
  {
   "cell_type": "code",
   "execution_count": 4,
   "id": "cee130fb",
   "metadata": {},
   "outputs": [],
   "source": [
    "# https://huggingface.co/blog/llama2\n"
   ]
  },
  {
   "cell_type": "code",
   "execution_count": null,
   "id": "dd5ac5c5",
   "metadata": {},
   "outputs": [],
   "source": []
  }
 ],
 "metadata": {
  "kernelspec": {
   "display_name": "Python 3 (ipykernel)",
   "language": "python",
   "name": "python3"
  },
  "language_info": {
   "codemirror_mode": {
    "name": "ipython",
    "version": 3
   },
   "file_extension": ".py",
   "mimetype": "text/x-python",
   "name": "python",
   "nbconvert_exporter": "python",
   "pygments_lexer": "ipython3",
   "version": "3.10.9"
  }
 },
 "nbformat": 4,
 "nbformat_minor": 5
}
